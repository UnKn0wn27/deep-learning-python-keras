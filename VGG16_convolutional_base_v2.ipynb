{
 "cells": [
  {
   "cell_type": "code",
   "execution_count": 1,
   "metadata": {},
   "outputs": [],
   "source": [
    "from tensorflow.keras.applications import VGG16\n",
    "\n",
    "conv_base = VGG16(\n",
    "    weights='imagenet',\n",
    "    include_top=False,\n",
    "    input_shape=(150,150,3)\n",
    ")"
   ]
  },
  {
   "cell_type": "code",
   "execution_count": 2,
   "metadata": {},
   "outputs": [
    {
     "name": "stdout",
     "output_type": "stream",
     "text": [
      "Found 2000 images belonging to 2 classes.\n",
      "Found 1000 images belonging to 2 classes.\n",
      "Found 1000 images belonging to 2 classes.\n"
     ]
    }
   ],
   "source": [
    "import os\n",
    "import numpy as np\n",
    "from tensorflow.keras.preprocessing.image import ImageDataGenerator\n",
    "\n",
    "base_dir = 'cat_dog_data_small'\n",
    "train_dir = os.path.join(base_dir, 'train')\n",
    "validation_dir = os.path.join(base_dir, 'validation')\n",
    "test_dir = os.path.join(base_dir, 'test')\n",
    "\n",
    "datagen = ImageDataGenerator(rescale=1./255)\n",
    "batch_size = 20\n",
    "\n",
    "def extract_features(directory, sample_count):\n",
    "    features = np.zeros(shape=(sample_count, 4, 4, 512))\n",
    "    labels = np.zeros(shape=(sample_count))\n",
    "    generator = datagen.flow_from_directory(\n",
    "        directory,\n",
    "        target_size=(150, 150),\n",
    "        batch_size=batch_size,\n",
    "        class_mode='binary'\n",
    "    )\n",
    "    i = 0\n",
    "    for input_batch, labels_batch in generator:\n",
    "        features_batch = conv_base.predict(input_batch)\n",
    "        features[i * batch_size : (i + 1) * batch_size] = features_batch\n",
    "        labels[i * batch_size : (i + 1) * batch_size] = labels_batch\n",
    "        i += 1\n",
    "        if i * batch_size >= sample_count:\n",
    "            break\n",
    "    return features, labels\n",
    "\n",
    "train_features, train_labels = extract_features(train_dir, 2000)\n",
    "validation_features, validation_labels = extract_features(validation_dir, 1000)\n",
    "test_features, test_labels = extract_features(test_dir, 1000)"
   ]
  },
  {
   "cell_type": "code",
   "execution_count": 3,
   "metadata": {},
   "outputs": [],
   "source": [
    "train_features = np.reshape(train_features, (2000, 4 * 4 * 512))\n",
    "validation_features = np.reshape(validation_features, (1000, 4 * 4 * 512))\n",
    "test_features = np.reshape(test_features, (1000, 4 * 4 * 512))"
   ]
  },
  {
   "cell_type": "code",
   "execution_count": 4,
   "metadata": {},
   "outputs": [],
   "source": [
    "from tensorflow.keras import models, layers\n",
    "\n",
    "model = models.Sequential()\n",
    "model.add(conv_base)\n",
    "model.add(layers.Flatten())\n",
    "model.add(layers.Dense(256, activation='relu'))\n",
    "model.add(layers.Dense(1, activation='sigmoid'))"
   ]
  },
  {
   "cell_type": "code",
   "execution_count": 5,
   "metadata": {},
   "outputs": [
    {
     "name": "stdout",
     "output_type": "stream",
     "text": [
      "Model: \"sequential\"\n",
      "_________________________________________________________________\n",
      "Layer (type)                 Output Shape              Param #   \n",
      "=================================================================\n",
      "vgg16 (Model)                (None, 4, 4, 512)         14714688  \n",
      "_________________________________________________________________\n",
      "flatten (Flatten)            (None, 8192)              0         \n",
      "_________________________________________________________________\n",
      "dense (Dense)                (None, 256)               2097408   \n",
      "_________________________________________________________________\n",
      "dense_1 (Dense)              (None, 1)                 257       \n",
      "=================================================================\n",
      "Total params: 16,812,353\n",
      "Trainable params: 16,812,353\n",
      "Non-trainable params: 0\n",
      "_________________________________________________________________\n"
     ]
    }
   ],
   "source": [
    "model.summary()"
   ]
  },
  {
   "cell_type": "code",
   "execution_count": 6,
   "metadata": {},
   "outputs": [
    {
     "name": "stdout",
     "output_type": "stream",
     "text": [
      "This is the number of trainable weights before freezing conv base: 30\n",
      "This is the number of trainalbe weights after freezing the conv base: 4\n"
     ]
    }
   ],
   "source": [
    "# freeze keras network\n",
    "print('This is the number of trainable weights before freezing conv base:', len(model.trainable_weights))\n",
    "conv_base.trainable = False\n",
    "print('This is the number of trainalbe weights after freezing the conv base:', len(model.trainable_weights))"
   ]
  },
  {
   "cell_type": "code",
   "execution_count": 7,
   "metadata": {},
   "outputs": [
    {
     "name": "stdout",
     "output_type": "stream",
     "text": [
      "Found 2000 images belonging to 2 classes.\n",
      "Found 1000 images belonging to 2 classes.\n"
     ]
    }
   ],
   "source": [
    "from tensorflow.keras.preprocessing.image import ImageDataGenerator\n",
    "from tensorflow.keras import optimizers\n",
    "\n",
    "train_datagen = ImageDataGenerator(\n",
    "    rescale=1./255,\n",
    "    rotation_range=40,\n",
    "    width_shift_range=0.2,\n",
    "    height_shift_range=0.2,\n",
    "    shear_range=0.2,\n",
    "    zoom_range=0.2,\n",
    "    horizontal_flip=True,\n",
    "    fill_mode='nearest'\n",
    ")\n",
    "# validation data shouldn't be augmented\n",
    "test_datagen = ImageDataGenerator(rescale=1./255)\n",
    "\n",
    "train_generator = train_datagen.flow_from_directory(\n",
    "    train_dir,\n",
    "    target_size=(150, 150),\n",
    "    batch_size=20,\n",
    "    class_mode='binary'\n",
    ")\n",
    "\n",
    "validation_generator = train_datagen.flow_from_directory(\n",
    "    validation_dir,\n",
    "    target_size=(150, 150),\n",
    "    batch_size=20,\n",
    "    class_mode='binary'\n",
    ")"
   ]
  },
  {
   "cell_type": "code",
   "execution_count": 8,
   "metadata": {},
   "outputs": [
    {
     "name": "stdout",
     "output_type": "stream",
     "text": [
      "Train for 100 steps, validate for 50 steps\n",
      "Epoch 1/30\n",
      "100/100 [==============================] - 47s 467ms/step - loss: 0.5674 - acc: 0.7145 - val_loss: 0.4985 - val_acc: 0.7730\n",
      "Epoch 2/30\n",
      "100/100 [==============================] - 47s 467ms/step - loss: 0.4694 - acc: 0.7875 - val_loss: 0.4523 - val_acc: 0.8100\n",
      "Epoch 3/30\n",
      "100/100 [==============================] - 46s 462ms/step - loss: 0.4287 - acc: 0.8105 - val_loss: 0.3968 - val_acc: 0.8270\n",
      "Epoch 4/30\n",
      "100/100 [==============================] - 43s 431ms/step - loss: 0.3952 - acc: 0.8250 - val_loss: 0.3964 - val_acc: 0.8310\n",
      "Epoch 5/30\n",
      "100/100 [==============================] - 44s 444ms/step - loss: 0.3851 - acc: 0.8305 - val_loss: 0.3533 - val_acc: 0.8540\n",
      "Epoch 6/30\n",
      "100/100 [==============================] - 45s 450ms/step - loss: 0.3674 - acc: 0.8290 - val_loss: 0.3555 - val_acc: 0.8410\n",
      "Epoch 7/30\n",
      "100/100 [==============================] - 47s 475ms/step - loss: 0.3526 - acc: 0.8415 - val_loss: 0.3583 - val_acc: 0.8520\n",
      "Epoch 8/30\n",
      "100/100 [==============================] - 46s 463ms/step - loss: 0.3686 - acc: 0.8380 - val_loss: 0.3565 - val_acc: 0.8400\n",
      "Epoch 9/30\n",
      "100/100 [==============================] - 46s 455ms/step - loss: 0.3414 - acc: 0.8455 - val_loss: 0.3495 - val_acc: 0.8520\n",
      "Epoch 10/30\n",
      "100/100 [==============================] - 45s 445ms/step - loss: 0.3386 - acc: 0.8535 - val_loss: 0.3443 - val_acc: 0.8440\n",
      "Epoch 11/30\n",
      "100/100 [==============================] - 45s 448ms/step - loss: 0.3363 - acc: 0.8495 - val_loss: 0.3230 - val_acc: 0.8550\n",
      "Epoch 12/30\n",
      "100/100 [==============================] - 45s 447ms/step - loss: 0.3164 - acc: 0.8650 - val_loss: 0.3346 - val_acc: 0.8640\n",
      "Epoch 13/30\n",
      "100/100 [==============================] - 45s 453ms/step - loss: 0.3315 - acc: 0.8615 - val_loss: 0.3201 - val_acc: 0.8640\n",
      "Epoch 14/30\n",
      "100/100 [==============================] - 46s 463ms/step - loss: 0.3200 - acc: 0.8500 - val_loss: 0.3411 - val_acc: 0.8520\n",
      "Epoch 15/30\n",
      "100/100 [==============================] - 46s 455ms/step - loss: 0.3106 - acc: 0.8635 - val_loss: 0.3478 - val_acc: 0.8460\n",
      "Epoch 16/30\n",
      "100/100 [==============================] - 46s 459ms/step - loss: 0.3069 - acc: 0.8670 - val_loss: 0.3379 - val_acc: 0.8580\n",
      "Epoch 17/30\n",
      "100/100 [==============================] - 46s 457ms/step - loss: 0.2992 - acc: 0.8720 - val_loss: 0.3680 - val_acc: 0.8280\n",
      "Epoch 18/30\n",
      "100/100 [==============================] - 45s 448ms/step - loss: 0.3017 - acc: 0.8655 - val_loss: 0.3451 - val_acc: 0.8430\n",
      "Epoch 19/30\n",
      "100/100 [==============================] - 45s 447ms/step - loss: 0.2929 - acc: 0.8665 - val_loss: 0.3636 - val_acc: 0.8290\n",
      "Epoch 20/30\n",
      "100/100 [==============================] - 46s 462ms/step - loss: 0.3028 - acc: 0.8645 - val_loss: 0.3465 - val_acc: 0.8410\n",
      "Epoch 21/30\n",
      "100/100 [==============================] - 46s 458ms/step - loss: 0.2938 - acc: 0.8720 - val_loss: 0.3246 - val_acc: 0.8610\n",
      "Epoch 22/30\n",
      "100/100 [==============================] - 46s 458ms/step - loss: 0.2932 - acc: 0.8725 - val_loss: 0.3149 - val_acc: 0.8570\n",
      "Epoch 23/30\n",
      "100/100 [==============================] - 46s 460ms/step - loss: 0.2949 - acc: 0.8670 - val_loss: 0.3484 - val_acc: 0.8420\n",
      "Epoch 24/30\n",
      "100/100 [==============================] - 46s 455ms/step - loss: 0.2870 - acc: 0.8710 - val_loss: 0.3174 - val_acc: 0.8640\n",
      "Epoch 25/30\n",
      "100/100 [==============================] - 45s 453ms/step - loss: 0.2986 - acc: 0.8735 - val_loss: 0.3078 - val_acc: 0.8710\n",
      "Epoch 26/30\n",
      "100/100 [==============================] - 46s 458ms/step - loss: 0.2952 - acc: 0.8730 - val_loss: 0.3061 - val_acc: 0.8590\n",
      "Epoch 27/30\n",
      "100/100 [==============================] - 47s 468ms/step - loss: 0.2788 - acc: 0.8765 - val_loss: 0.3155 - val_acc: 0.8620\n",
      "Epoch 28/30\n",
      "100/100 [==============================] - 45s 453ms/step - loss: 0.2749 - acc: 0.8875 - val_loss: 0.3186 - val_acc: 0.8600\n",
      "Epoch 29/30\n",
      "100/100 [==============================] - 44s 439ms/step - loss: 0.2878 - acc: 0.8770 - val_loss: 0.3067 - val_acc: 0.8750\n",
      "Epoch 30/30\n",
      "100/100 [==============================] - 46s 461ms/step - loss: 0.2826 - acc: 0.8790 - val_loss: 0.3209 - val_acc: 0.8610\n"
     ]
    }
   ],
   "source": [
    "model.compile(\n",
    "    optimizer=optimizers.RMSprop(lr=2e-5),\n",
    "    loss='binary_crossentropy',\n",
    "    metrics=['acc']\n",
    ")\n",
    "history = model.fit(\n",
    "    train_generator,\n",
    "    steps_per_epoch=100,\n",
    "    epochs=30,\n",
    "    validation_data=validation_generator,\n",
    "    validation_steps=50\n",
    ")"
   ]
  },
  {
   "cell_type": "code",
   "execution_count": 9,
   "metadata": {},
   "outputs": [
    {
     "name": "stdout",
     "output_type": "stream",
     "text": [
      "dict_keys(['loss', 'acc', 'val_loss', 'val_acc'])\n"
     ]
    },
    {
     "data": {
      "image/png": "[encoded data removed]",
      "text/plain": [
       "<Figure size 432x288 with 1 Axes>"
      ]
     },
     "metadata": {
      "needs_background": "light"
     },
     "output_type": "display_data"
    },
    {
     "data": {
      "image/png": "[encoded data removed]",
      "text/plain": [
       "<Figure size 432x288 with 1 Axes>"
      ]
     },
     "metadata": {
      "needs_background": "light"
     },
     "output_type": "display_data"
    }
   ],
   "source": [
    "import matplotlib.pyplot as plt\n",
    "\n",
    "print(history.history.keys())\n",
    "\n",
    "acc = history.history['acc']\n",
    "val_acc = history.history['val_acc']\n",
    "loss = history.history['loss']\n",
    "val_loss = history.history['val_loss']\n",
    "\n",
    "epochs = range(1, len(acc) + 1)\n",
    "\n",
    "plt.plot(epochs, acc, 'bo', label='Training acc')\n",
    "plt.plot(epochs, val_acc, 'b', label='Validation acc')\n",
    "plt.title('Training and validation accuracy')\n",
    "plt.legend()\n",
    "\n",
    "plt.figure()\n",
    "\n",
    "plt.plot(epochs, loss, 'bo', label='Training loss')\n",
    "plt.plot(epochs, val_loss, 'b', label='Validation loss')\n",
    "plt.title('Training and validation loss')\n",
    "plt.legend()\n",
    "\n",
    "plt.show()"
   ]
  }
 ],
 "metadata": {
  "kernelspec": {
   "display_name": "Python 3",
   "language": "python",
   "name": "python3"
  },
  "language_info": {
   "codemirror_mode": {
    "name": "ipython",
    "version": 3
   },
   "file_extension": ".py",
   "mimetype": "text/x-python",
   "name": "python",
   "nbconvert_exporter": "python",
   "pygments_lexer": "ipython3",
   "version": "3.7.5"
  }
 },
 "nbformat": 4,
 "nbformat_minor": 2
}
