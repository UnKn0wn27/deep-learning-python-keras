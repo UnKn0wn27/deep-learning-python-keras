{
 "cells": [
  {
   "cell_type": "code",
   "execution_count": 1,
   "metadata": {},
   "outputs": [],
   "source": [
    "from tensorflow.keras.datasets import imdb\n",
    "from tensorflow.keras.preprocessing import sequence"
   ]
  },
  {
   "cell_type": "code",
   "execution_count": 2,
   "metadata": {},
   "outputs": [
    {
     "name": "stdout",
     "output_type": "stream",
     "text": [
      "Loading data...\n",
      "25000 train sequence\n",
      "25000 test sequence\n",
      "Pad sequences (samples x time)\n",
      "input_train shape: (25000, 500)\n",
      "input_test shape: (25000, 500)\n"
     ]
    }
   ],
   "source": [
    "# nr of words to consider as features\n",
    "max_features = 10000\n",
    "# cuts off texts aafter this many words(among the max_features most common words)\n",
    "maxlen = 500\n",
    "batch_size = 32\n",
    "\n",
    "print('Loading data...')\n",
    "(input_train, y_train), (input_test, y_test) = imdb.load_data(num_words=max_features)\n",
    "print(len(input_train), 'train sequence')\n",
    "print(len(input_test), 'test sequence')\n",
    "\n",
    "print('Pad sequences (samples x time)')\n",
    "\n",
    "input_train = sequence.pad_sequences(input_train, maxlen=maxlen)\n",
    "input_test = sequence.pad_sequences(input_test, maxlen=maxlen)\n",
    "\n",
    "print('input_train shape:', input_train.shape)\n",
    "print('input_test shape:', input_test.shape)"
   ]
  },
  {
   "cell_type": "code",
   "execution_count": 3,
   "metadata": {},
   "outputs": [
    {
     "name": "stdout",
     "output_type": "stream",
     "text": [
      "Train on 20000 samples, validate on 5000 samples\n",
      "Epoch 1/10\n",
      "20000/20000 [==============================] - 33s 2ms/sample - loss: 0.5868 - acc: 0.6840 - val_loss: 0.6081 - val_acc: 0.7028\n",
      "Epoch 2/10\n",
      "20000/20000 [==============================] - 31s 2ms/sample - loss: 0.3613 - acc: 0.8534 - val_loss: 0.4487 - val_acc: 0.8030\n",
      "Epoch 3/10\n",
      "20000/20000 [==============================] - 29s 1ms/sample - loss: 0.2741 - acc: 0.8942 - val_loss: 0.3621 - val_acc: 0.8586\n",
      "Epoch 4/10\n",
      "20000/20000 [==============================] - 32s 2ms/sample - loss: 0.2065 - acc: 0.9237 - val_loss: 0.4185 - val_acc: 0.8268\n",
      "Epoch 5/10\n",
      "20000/20000 [==============================] - 33s 2ms/sample - loss: 0.1544 - acc: 0.9455 - val_loss: 0.4023 - val_acc: 0.8514\n",
      "Epoch 6/10\n",
      "20000/20000 [==============================] - 32s 2ms/sample - loss: 0.1082 - acc: 0.9621 - val_loss: 0.5831 - val_acc: 0.7394\n",
      "Epoch 7/10\n",
      "20000/20000 [==============================] - 33s 2ms/sample - loss: 0.0895 - acc: 0.9687 - val_loss: 0.4830 - val_acc: 0.8362\n",
      "Epoch 8/10\n",
      "20000/20000 [==============================] - 32s 2ms/sample - loss: 0.0511 - acc: 0.9843 - val_loss: 0.4920 - val_acc: 0.8496\n",
      "Epoch 9/10\n",
      "20000/20000 [==============================] - 34s 2ms/sample - loss: 0.0320 - acc: 0.9901 - val_loss: 0.5442 - val_acc: 0.8498\n",
      "Epoch 10/10\n",
      "20000/20000 [==============================] - 33s 2ms/sample - loss: 0.0256 - acc: 0.9923 - val_loss: 0.5899 - val_acc: 0.8296\n"
     ]
    }
   ],
   "source": [
    "from tensorflow.keras.models import Sequential\n",
    "from tensorflow.keras.layers import Dense, Embedding, SimpleRNN\n",
    "\n",
    "model = Sequential()\n",
    "model.add(Embedding(max_features, 32))\n",
    "model.add(SimpleRNN(32))\n",
    "model.add(Dense(1, activation='sigmoid'))\n",
    "\n",
    "model.compile(optimizer='rmsprop', loss='binary_crossentropy', metrics=['acc'])\n",
    "history = model.fit(input_train, y_train,\n",
    "                    epochs=10,\n",
    "                    batch_size=128,\n",
    "                    validation_split=0.2)"
   ]
  },
  {
   "cell_type": "code",
   "execution_count": 4,
   "metadata": {},
   "outputs": [
    {
     "data": {
      "image/png": "[encoded data removed]",
      "text/plain": [
       "<Figure size 432x288 with 1 Axes>"
      ]
     },
     "metadata": {
      "needs_background": "light"
     },
     "output_type": "display_data"
    },
    {
     "data": {
      "image/png": "[encoded data removed]",
      "text/plain": [
       "<Figure size 432x288 with 1 Axes>"
      ]
     },
     "metadata": {
      "needs_background": "light"
     },
     "output_type": "display_data"
    }
   ],
   "source": [
    "# plotting the result\n",
    "import matplotlib.pyplot as plt\n",
    "\n",
    "acc = history.history['acc']\n",
    "val_acc = history.history['val_acc']\n",
    "loss = history.history['loss']\n",
    "val_loss = history.history['val_loss']\n",
    "\n",
    "epochs = range(1, len(acc) + 1)\n",
    "\n",
    "plt.plot(epochs, acc, 'bo', label='Training acc')\n",
    "plt.plot(epochs, val_acc, 'b', label='Validation acc')\n",
    "plt.legend()\n",
    "\n",
    "plt.figure()\n",
    "\n",
    "plt.plot(epochs, loss, 'bo', label='Training loss')\n",
    "plt.plot(epochs, val_loss, 'b', label='Validation loss')\n",
    "plt.legend()\n",
    "\n",
    "plt.show()"
   ]
  },
  {
   "cell_type": "code",
   "execution_count": null,
   "metadata": {},
   "outputs": [],
   "source": []
  }
 ],
 "metadata": {
  "kernelspec": {
   "display_name": "Python 3",
   "language": "python",
   "name": "python3"
  },
  "language_info": {
   "codemirror_mode": {
    "name": "ipython",
    "version": 3
   },
   "file_extension": ".py",
   "mimetype": "text/x-python",
   "name": "python",
   "nbconvert_exporter": "python",
   "pygments_lexer": "ipython3",
   "version": "3.7.6"
  }
 },
 "nbformat": 4,
 "nbformat_minor": 2
}
