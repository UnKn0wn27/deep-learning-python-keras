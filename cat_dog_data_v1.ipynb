{
 "cells": [
  {
   "cell_type": "code",
   "execution_count": 1,
   "metadata": {},
   "outputs": [],
   "source": [
    "from tensorflow.keras import layers, models\n",
    "\n",
    "model = models.Sequential()\n",
    "model.add(layers.Conv2D(32, (3, 3), activation='relu', input_shape=(150, 150, 3)))\n",
    "model.add(layers.MaxPooling2D((2, 2)))\n",
    "model.add(layers.Conv2D(64, (3, 3), activation='relu'))\n",
    "model.add(layers.MaxPooling2D((2, 2)))\n",
    "model.add(layers.Conv2D(128, (3, 3), activation='relu'))\n",
    "model.add(layers.MaxPooling2D((2, 2)))\n",
    "model.add(layers.Conv2D(128, (3, 3), activation='relu'))\n",
    "model.add(layers.MaxPooling2D((2, 2)))\n",
    "\n",
    "model.add(layers.Flatten())\n",
    "model.add(layers.Dense(512, activation='relu'))\n",
    "model.add(layers.Dense(1, activation='sigmoid'))"
   ]
  },
  {
   "cell_type": "code",
   "execution_count": 2,
   "metadata": {},
   "outputs": [
    {
     "name": "stdout",
     "output_type": "stream",
     "text": [
      "Model: \"sequential\"\n",
      "_________________________________________________________________\n",
      "Layer (type)                 Output Shape              Param #   \n",
      "=================================================================\n",
      "conv2d (Conv2D)              (None, 148, 148, 32)      896       \n",
      "_________________________________________________________________\n",
      "max_pooling2d (MaxPooling2D) (None, 74, 74, 32)        0         \n",
      "_________________________________________________________________\n",
      "conv2d_1 (Conv2D)            (None, 72, 72, 64)        18496     \n",
      "_________________________________________________________________\n",
      "max_pooling2d_1 (MaxPooling2 (None, 36, 36, 64)        0         \n",
      "_________________________________________________________________\n",
      "conv2d_2 (Conv2D)            (None, 34, 34, 128)       73856     \n",
      "_________________________________________________________________\n",
      "max_pooling2d_2 (MaxPooling2 (None, 17, 17, 128)       0         \n",
      "_________________________________________________________________\n",
      "conv2d_3 (Conv2D)            (None, 15, 15, 128)       147584    \n",
      "_________________________________________________________________\n",
      "max_pooling2d_3 (MaxPooling2 (None, 7, 7, 128)         0         \n",
      "_________________________________________________________________\n",
      "flatten (Flatten)            (None, 6272)              0         \n",
      "_________________________________________________________________\n",
      "dense (Dense)                (None, 512)               3211776   \n",
      "_________________________________________________________________\n",
      "dense_1 (Dense)              (None, 1)                 513       \n",
      "=================================================================\n",
      "Total params: 3,453,121\n",
      "Trainable params: 3,453,121\n",
      "Non-trainable params: 0\n",
      "_________________________________________________________________\n"
     ]
    }
   ],
   "source": [
    "model.summary()"
   ]
  },
  {
   "cell_type": "code",
   "execution_count": 3,
   "metadata": {},
   "outputs": [],
   "source": [
    "from tensorflow.keras import optimizers\n",
    "model.compile(loss='binary_crossentropy',\n",
    "             optimizer=optimizers.RMSprop(lr=1e-4),\n",
    "             metrics=['acc'])"
   ]
  },
  {
   "cell_type": "code",
   "execution_count": 6,
   "metadata": {},
   "outputs": [
    {
     "name": "stdout",
     "output_type": "stream",
     "text": [
      "Found 2000 images belonging to 2 classes.\n",
      "Found 1000 images belonging to 2 classes.\n"
     ]
    }
   ],
   "source": [
    "from tensorflow.keras.preprocessing.image import ImageDataGenerator\n",
    "train_datagen = ImageDataGenerator(rescale=1./255)\n",
    "test_datagen = ImageDataGenerator(rescale=1./255)\n",
    "\n",
    "train_dir = 'cat_dog_data_small/train'\n",
    "validation_dir = 'cat_dog_data_small/validation'\n",
    "\n",
    "train_generator = train_datagen.flow_from_directory(\n",
    "    train_dir,\n",
    "    target_size=(150, 150),\n",
    "    batch_size=20,\n",
    "    class_mode='binary'\n",
    ")\n",
    "\n",
    "validation_generator = test_datagen.flow_from_directory(\n",
    "    validation_dir,\n",
    "    target_size=(150, 150),\n",
    "    batch_size=20,\n",
    "    class_mode='binary'\n",
    ")\n"
   ]
  },
  {
   "cell_type": "code",
   "execution_count": 7,
   "metadata": {},
   "outputs": [
    {
     "name": "stdout",
     "output_type": "stream",
     "text": [
      "data batch shape: (20, 150, 150, 3)\n",
      "labels batch shape: (20, 150, 150, 3)\n"
     ]
    }
   ],
   "source": [
    "for data_batch, data_labels in train_generator:\n",
    "    print('data batch shape:', data_batch.shape)\n",
    "    print('labels batch shape:', data_batch.shape)\n",
    "    break"
   ]
  },
  {
   "cell_type": "code",
   "execution_count": 9,
   "metadata": {},
   "outputs": [
    {
     "name": "stdout",
     "output_type": "stream",
     "text": [
      "Epoch 1/30\n",
      "100/100 [==============================] - 13s 132ms/step - loss: 0.6907 - acc: 0.5315 - val_loss: 0.6755 - val_acc: 0.5650\n",
      "Epoch 2/30\n",
      "100/100 [==============================] - 11s 109ms/step - loss: 0.6587 - acc: 0.6160 - val_loss: 0.6670 - val_acc: 0.5740\n",
      "Epoch 3/30\n",
      "100/100 [==============================] - 11s 110ms/step - loss: 0.6201 - acc: 0.6610 - val_loss: 0.6317 - val_acc: 0.6320\n",
      "Epoch 4/30\n",
      "100/100 [==============================] - 11s 113ms/step - loss: 0.5793 - acc: 0.6895 - val_loss: 0.6150 - val_acc: 0.6770\n",
      "Epoch 5/30\n",
      "100/100 [==============================] - 12s 116ms/step - loss: 0.5380 - acc: 0.7265 - val_loss: 0.6432 - val_acc: 0.6380\n",
      "Epoch 6/30\n",
      "100/100 [==============================] - 12s 117ms/step - loss: 0.5072 - acc: 0.7450 - val_loss: 0.5791 - val_acc: 0.7010\n",
      "Epoch 7/30\n",
      "100/100 [==============================] - 12s 118ms/step - loss: 0.4797 - acc: 0.7760 - val_loss: 0.6023 - val_acc: 0.6910\n",
      "Epoch 8/30\n",
      "100/100 [==============================] - 12s 119ms/step - loss: 0.4609 - acc: 0.7800 - val_loss: 0.5635 - val_acc: 0.7030\n",
      "Epoch 9/30\n",
      "100/100 [==============================] - 12s 117ms/step - loss: 0.4367 - acc: 0.8025 - val_loss: 0.5583 - val_acc: 0.7190\n",
      "Epoch 10/30\n",
      "100/100 [==============================] - 12s 123ms/step - loss: 0.4092 - acc: 0.8045 - val_loss: 0.5770 - val_acc: 0.7160\n",
      "Epoch 11/30\n",
      "100/100 [==============================] - 13s 132ms/step - loss: 0.3820 - acc: 0.8300 - val_loss: 0.6125 - val_acc: 0.6960\n",
      "Epoch 12/30\n",
      "100/100 [==============================] - 12s 121ms/step - loss: 0.3563 - acc: 0.8445 - val_loss: 0.6232 - val_acc: 0.6940\n",
      "Epoch 13/30\n",
      "100/100 [==============================] - 12s 122ms/step - loss: 0.3365 - acc: 0.8470 - val_loss: 0.5897 - val_acc: 0.7180\n",
      "Epoch 14/30\n",
      "100/100 [==============================] - 13s 129ms/step - loss: 0.3095 - acc: 0.8680 - val_loss: 0.6421 - val_acc: 0.6980\n",
      "Epoch 15/30\n",
      "100/100 [==============================] - 15s 151ms/step - loss: 0.2890 - acc: 0.8850 - val_loss: 0.7095 - val_acc: 0.7000\n",
      "Epoch 16/30\n",
      "100/100 [==============================] - 13s 130ms/step - loss: 0.2641 - acc: 0.8855 - val_loss: 0.6746 - val_acc: 0.7100\n",
      "Epoch 17/30\n",
      "100/100 [==============================] - 13s 126ms/step - loss: 0.2414 - acc: 0.9025 - val_loss: 0.6757 - val_acc: 0.7170\n",
      "Epoch 18/30\n",
      "100/100 [==============================] - 14s 137ms/step - loss: 0.2191 - acc: 0.9140 - val_loss: 0.6523 - val_acc: 0.7230\n",
      "Epoch 19/30\n",
      "100/100 [==============================] - 14s 137ms/step - loss: 0.1971 - acc: 0.9260 - val_loss: 0.6980 - val_acc: 0.7100\n",
      "Epoch 20/30\n",
      "100/100 [==============================] - 12s 125ms/step - loss: 0.1782 - acc: 0.9320 - val_loss: 0.6940 - val_acc: 0.7180\n",
      "Epoch 21/30\n",
      "100/100 [==============================] - 13s 130ms/step - loss: 0.1579 - acc: 0.9420 - val_loss: 0.7205 - val_acc: 0.7210\n",
      "Epoch 22/30\n",
      "100/100 [==============================] - 14s 139ms/step - loss: 0.1384 - acc: 0.9500 - val_loss: 0.7809 - val_acc: 0.7230\n",
      "Epoch 23/30\n",
      "100/100 [==============================] - 15s 148ms/step - loss: 0.1142 - acc: 0.9630 - val_loss: 0.8079 - val_acc: 0.7130\n",
      "Epoch 24/30\n",
      "100/100 [==============================] - 12s 125ms/step - loss: 0.1071 - acc: 0.9660 - val_loss: 0.9270 - val_acc: 0.7060\n",
      "Epoch 25/30\n",
      "100/100 [==============================] - 13s 129ms/step - loss: 0.0869 - acc: 0.9750 - val_loss: 0.9394 - val_acc: 0.7170\n",
      "Epoch 26/30\n",
      "100/100 [==============================] - 14s 136ms/step - loss: 0.0796 - acc: 0.9735 - val_loss: 0.9536 - val_acc: 0.7150\n",
      "Epoch 27/30\n",
      "100/100 [==============================] - 16s 163ms/step - loss: 0.0658 - acc: 0.9840 - val_loss: 0.9587 - val_acc: 0.7210\n",
      "Epoch 28/30\n",
      "100/100 [==============================] - 13s 129ms/step - loss: 0.0550 - acc: 0.9890 - val_loss: 1.0754 - val_acc: 0.7180\n",
      "Epoch 29/30\n",
      "100/100 [==============================] - 14s 139ms/step - loss: 0.0466 - acc: 0.9860 - val_loss: 1.2026 - val_acc: 0.6920\n",
      "Epoch 30/30\n",
      "100/100 [==============================] - 15s 148ms/step - loss: 0.0373 - acc: 0.9920 - val_loss: 1.1384 - val_acc: 0.7140\n"
     ]
    }
   ],
   "source": [
    "history = model.fit_generator(\n",
    "    train_generator,\n",
    "    steps_per_epoch=100,\n",
    "    epochs=30,\n",
    "    validation_data=validation_generator,\n",
    "    validation_steps=50\n",
    ")"
   ]
  },
  {
   "cell_type": "code",
   "execution_count": 10,
   "metadata": {},
   "outputs": [],
   "source": [
    "model.save('cats_and_dogs_small_1.h5')"
   ]
  },
  {
   "cell_type": "code",
   "execution_count": 14,
   "metadata": {},
   "outputs": [
    {
     "data": {
      "image/png": "[encoded data removed]",
      "text/plain": [
       "<Figure size 432x288 with 1 Axes>"
      ]
     },
     "metadata": {
      "needs_background": "light"
     },
     "output_type": "display_data"
    },
    {
     "data": {
      "image/png": "[encoded data removed]",
      "text/plain": [
       "<Figure size 432x288 with 1 Axes>"
      ]
     },
     "metadata": {
      "needs_background": "light"
     },
     "output_type": "display_data"
    }
   ],
   "source": [
    "import matplotlib.pyplot as plt\n",
    "\n",
    "acc = history.history['acc']\n",
    "val_acc = history.history['val_acc']\n",
    "loss = history.history['loss']\n",
    "val_loss = history.history['val_loss']\n",
    "\n",
    "epochs = range(1, len(acc) + 1)\n",
    "\n",
    "plt.plot(epochs, acc, 'bo', label='Training acc')\n",
    "plt.plot(epochs, val_acc, 'b', label='Validation acc')\n",
    "plt.legend()\n",
    "\n",
    "plt.figure()\n",
    "\n",
    "plt.plot(epochs, loss, 'bo', label='Training loss')\n",
    "plt.plot(epochs, val_loss, 'b', label='Validation loss')\n",
    "plt.legend()\n",
    "\n",
    "plt.show()"
   ]
  },
  {
   "cell_type": "code",
   "execution_count": null,
   "metadata": {},
   "outputs": [],
   "source": []
  }
 ],
 "metadata": {
  "kernelspec": {
   "display_name": "Python 3",
   "language": "python",
   "name": "python3"
  },
  "language_info": {
   "codemirror_mode": {
    "name": "ipython",
    "version": 3
   },
   "file_extension": ".py",
   "mimetype": "text/x-python",
   "name": "python",
   "nbconvert_exporter": "python",
   "pygments_lexer": "ipython3",
   "version": "3.7.6"
  }
 },
 "nbformat": 4,
 "nbformat_minor": 2
}
