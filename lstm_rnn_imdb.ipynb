{
 "cells": [
  {
   "cell_type": "code",
   "execution_count": 1,
   "metadata": {},
   "outputs": [],
   "source": [
    "from tensorflow.keras.datasets import imdb\n",
    "from tensorflow.keras.preprocessing import sequence"
   ]
  },
  {
   "cell_type": "code",
   "execution_count": 2,
   "metadata": {},
   "outputs": [
    {
     "name": "stdout",
     "output_type": "stream",
     "text": [
      "Loading data...\n",
      "25000 train sequence\n",
      "25000 test sequence\n",
      "Pad sequences (samples x time)\n",
      "input_train shape: (25000, 500)\n",
      "input_test shape: (25000, 500)\n"
     ]
    }
   ],
   "source": [
    "# nr of words to consider as features\n",
    "max_features = 10000\n",
    "# cuts off texts aafter this many words(among the max_features most common words)\n",
    "maxlen = 500\n",
    "batch_size = 32\n",
    "\n",
    "print('Loading data...')\n",
    "(input_train, y_train), (input_test, y_test) = imdb.load_data(num_words=max_features)\n",
    "print(len(input_train), 'train sequence')\n",
    "print(len(input_test), 'test sequence')\n",
    "\n",
    "print('Pad sequences (samples x time)')\n",
    "\n",
    "input_train = sequence.pad_sequences(input_train, maxlen=maxlen)\n",
    "input_test = sequence.pad_sequences(input_test, maxlen=maxlen)\n",
    "\n",
    "print('input_train shape:', input_train.shape)\n",
    "print('input_test shape:', input_test.shape)"
   ]
  },
  {
   "cell_type": "code",
   "execution_count": 4,
   "metadata": {},
   "outputs": [
    {
     "name": "stdout",
     "output_type": "stream",
     "text": [
      "Train on 20000 samples, validate on 5000 samples\n",
      "Epoch 1/10\n",
      "20000/20000 [==============================] - 8s 398us/sample - loss: 0.5047 - acc: 0.7581 - val_loss: 0.3599 - val_acc: 0.8476\n",
      "Epoch 2/10\n",
      "20000/20000 [==============================] - 5s 232us/sample - loss: 0.2976 - acc: 0.8829 - val_loss: 0.3229 - val_acc: 0.8662\n",
      "Epoch 3/10\n",
      "20000/20000 [==============================] - 5s 231us/sample - loss: 0.2356 - acc: 0.9118 - val_loss: 0.2945 - val_acc: 0.8778\n",
      "Epoch 4/10\n",
      "20000/20000 [==============================] - 5s 232us/sample - loss: 0.1952 - acc: 0.9279 - val_loss: 0.3034 - val_acc: 0.8886\n",
      "Epoch 5/10\n",
      "20000/20000 [==============================] - 5s 231us/sample - loss: 0.1720 - acc: 0.9373 - val_loss: 0.3468 - val_acc: 0.8820\n",
      "Epoch 6/10\n",
      "20000/20000 [==============================] - 5s 225us/sample - loss: 0.1543 - acc: 0.9442 - val_loss: 0.3362 - val_acc: 0.8718\n",
      "Epoch 7/10\n",
      "20000/20000 [==============================] - 4s 224us/sample - loss: 0.1371 - acc: 0.9500 - val_loss: 0.3099 - val_acc: 0.8828\n",
      "Epoch 8/10\n",
      "20000/20000 [==============================] - 4s 224us/sample - loss: 0.1259 - acc: 0.9550 - val_loss: 0.3386 - val_acc: 0.8824\n",
      "Epoch 9/10\n",
      "20000/20000 [==============================] - 4s 224us/sample - loss: 0.1116 - acc: 0.9616 - val_loss: 0.3350 - val_acc: 0.8664\n",
      "Epoch 10/10\n",
      "20000/20000 [==============================] - 4s 225us/sample - loss: 0.1053 - acc: 0.9639 - val_loss: 0.3594 - val_acc: 0.8658\n"
     ]
    }
   ],
   "source": [
    "from tensorflow.keras.models import Sequential\n",
    "from tensorflow.keras.layers import Dense, Embedding, LSTM\n",
    "\n",
    "model = Sequential()\n",
    "model.add(Embedding(max_features, 32))\n",
    "model.add(LSTM(32))\n",
    "model.add(Dense(1, activation='sigmoid'))\n",
    "\n",
    "model.compile(optimozer='rmsprop',\n",
    "              loss='binary_crossentropy',\n",
    "              metrics=['acc'])\n",
    "history = model.fit(input_train, y_train,\n",
    "                    epochs=10,\n",
    "                    batch_size=128,\n",
    "                    validation_split=0.2)"
   ]
  },
  {
   "cell_type": "code",
   "execution_count": 5,
   "metadata": {},
   "outputs": [
    {
     "data": {
      "image/png": "[encoded data removed]",
      "text/plain": [
       "<Figure size 432x288 with 1 Axes>"
      ]
     },
     "metadata": {
      "needs_background": "light"
     },
     "output_type": "display_data"
    },
    {
     "data": {
      "image/png": "[encoded data removed]",
      "text/plain": [
       "<Figure size 432x288 with 1 Axes>"
      ]
     },
     "metadata": {
      "needs_background": "light"
     },
     "output_type": "display_data"
    }
   ],
   "source": [
    "# plotting the result\n",
    "import matplotlib.pyplot as plt\n",
    "\n",
    "acc = history.history['acc']\n",
    "val_acc = history.history['val_acc']\n",
    "loss = history.history['loss']\n",
    "val_loss = history.history['val_loss']\n",
    "\n",
    "epochs = range(1, len(acc) + 1)\n",
    "\n",
    "plt.plot(epochs, acc, 'bo', label='Training acc')\n",
    "plt.plot(epochs, val_acc, 'b', label='Validation acc')\n",
    "plt.legend()\n",
    "\n",
    "plt.figure()\n",
    "\n",
    "plt.plot(epochs, loss, 'bo', label='Training loss')\n",
    "plt.plot(epochs, val_loss, 'b', label='Validation loss')\n",
    "plt.legend()\n",
    "\n",
    "plt.show()"
   ]
  }
 ],
 "metadata": {
  "kernelspec": {
   "display_name": "Python 3",
   "language": "python",
   "name": "python3"
  },
  "language_info": {
   "codemirror_mode": {
    "name": "ipython",
    "version": 3
   },
   "file_extension": ".py",
   "mimetype": "text/x-python",
   "name": "python",
   "nbconvert_exporter": "python",
   "pygments_lexer": "ipython3",
   "version": "3.7.6"
  }
 },
 "nbformat": 4,
 "nbformat_minor": 2
}
